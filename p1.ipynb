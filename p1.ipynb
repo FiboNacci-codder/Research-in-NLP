{
 "cells": [
  {
   "cell_type": "markdown",
   "id": "7cc25016",
   "metadata": {},
   "source": [
    "# 0. Libraries"
   ]
  },
  {
   "cell_type": "code",
   "execution_count": 33,
   "id": "d26b761e",
   "metadata": {},
   "outputs": [],
   "source": [
    "import numpy as np\n",
    "import pandas as pd\n",
    "from Bio import Entrez\n",
    "import xml.etree.ElementTree as ET"
   ]
  },
  {
   "cell_type": "markdown",
   "id": "5b2c79eb",
   "metadata": {},
   "source": [
    "# 1. Modules"
   ]
  },
  {
   "cell_type": "code",
   "execution_count": 34,
   "id": "30109da8",
   "metadata": {},
   "outputs": [],
   "source": [
    "# Return a PMC article XML given its ID\n",
    "def fetch_pmc_xml(pmc_id, filename=None, email=\"your_email@example.com\"):\n",
    "    \"\"\"\n",
    "    Download the XML of a PMC article given its ID.\n",
    "\n",
    "    Args:\n",
    "        pmc_id (str): The PMC ID, e.g. \"PMC4136787\" or just \"4136787\".\n",
    "        filename (str): Optional, file name to save the XML.\n",
    "        email (str): Your email (required by NCBI).\n",
    "\n",
    "    Returns:\n",
    "        str: The XML content of the article as string.\n",
    "    \"\"\"\n",
    "    # Set email for NCBI (required)\n",
    "    Entrez.email = email\n",
    "    \n",
    "    # Clean PMC ID (remove PMC prefix if present)\n",
    "    clean_id = pmc_id.replace(\"PMC\", \"\") if pmc_id.startswith(\"PMC\") else pmc_id\n",
    "    \n",
    "    try:\n",
    "        # Fetch XML data\n",
    "        handle = Entrez.efetch(db=\"pmc\", id=clean_id, rettype=\"full\", retmode=\"xml\")\n",
    "        xml_data = handle.read()\n",
    "        handle.close()\n",
    "        \n",
    "        # Convert bytes to string\n",
    "        if isinstance(xml_data, bytes):\n",
    "            xml_content = xml_data.decode('utf-8')\n",
    "        else:\n",
    "            xml_content = xml_data\n",
    "        \n",
    "        # Save to file if filename provided\n",
    "        if filename:\n",
    "            with open(filename, \"w\", encoding=\"utf-8\") as f:\n",
    "                f.write(xml_content)\n",
    "            print(f\"XML saved to {filename}\")\n",
    "        \n",
    "        return xml_content\n",
    "        \n",
    "    except Exception as e:\n",
    "        print(f\"Error fetching PMC ID {pmc_id}: {e}\")\n",
    "        return None"
   ]
  },
  {
   "cell_type": "code",
   "execution_count": 35,
   "id": "bc29634a",
   "metadata": {},
   "outputs": [],
   "source": [
    "def load_xml(xml_content_or_file):\n",
    "    \"\"\"\n",
    "    Load XML content (string or file path).\n",
    "    \"\"\"\n",
    "    try:\n",
    "        # Try parsing from string\n",
    "        root = ET.fromstring(xml_content_or_file)\n",
    "    except ET.ParseError:\n",
    "        # Otherwise parse from file\n",
    "        tree = ET.parse(xml_content_or_file)\n",
    "        root = tree.getroot()\n",
    "    return root"
   ]
  },
  {
   "cell_type": "code",
   "execution_count": 36,
   "id": "6b0da1a7",
   "metadata": {},
   "outputs": [],
   "source": [
    "def get_authors(root):\n",
    "    \"\"\"Extract list of authors.\"\"\"\n",
    "    authors = []\n",
    "    for contrib in root.findall(\".//contrib[@contrib-type='author']\"):\n",
    "        surname = contrib.find(\"name/surname\")\n",
    "        given = contrib.find(\"name/given-names\")\n",
    "        if surname is not None and given is not None:\n",
    "            authors.append(f\"{given.text} {surname.text}\")\n",
    "    return authors"
   ]
  },
  {
   "cell_type": "code",
   "execution_count": 37,
   "id": "62eb4f22",
   "metadata": {},
   "outputs": [],
   "source": [
    "def get_title(root):\n",
    "    \"\"\"Extract article title.\"\"\"\n",
    "    title_elem = root.find(\".//article-title\")\n",
    "    return title_elem.text if title_elem is not None else None"
   ]
  },
  {
   "cell_type": "code",
   "execution_count": 38,
   "id": "6e44375c",
   "metadata": {},
   "outputs": [],
   "source": [
    "def get_abstract(root):\n",
    "    \"\"\"Extract abstract text.\"\"\"\n",
    "    abstract_elems = root.findall(\".//abstract//p\")\n",
    "    return \" \".join(\"\".join(p.itertext()) for p in abstract_elems) if abstract_elems else None\n"
   ]
  },
  {
   "cell_type": "markdown",
   "id": "fc36a705",
   "metadata": {},
   "source": [
    "# 2. Extract the data"
   ]
  },
  {
   "cell_type": "code",
   "execution_count": 39,
   "id": "60d9355a",
   "metadata": {},
   "outputs": [
    {
     "name": "stdout",
     "output_type": "stream",
     "text": [
      "--2025-09-19 23:12:57--  https://raw.githubusercontent.com/jgalazka/SB_publications/main/SB_publication_PMC.csv\n",
      "Resolving raw.githubusercontent.com (raw.githubusercontent.com)... 2606:50c0:8003::154, 2606:50c0:8001::154, 2606:50c0:8002::154, ...\n",
      "Connecting to raw.githubusercontent.com (raw.githubusercontent.com)|2606:50c0:8003::154|:443... connected.\n",
      "HTTP request sent, awaiting response... 200 OK\n",
      "Length: 97057 (95K) [text/plain]\n",
      "Saving to: ‘SB_publication_PMC.csv’\n",
      "\n",
      "SB_publication_PMC. 100%[===================>]  94.78K  --.-KB/s    in 0.1s    \n",
      "\n",
      "2025-09-19 23:12:58 (663 KB/s) - ‘SB_publication_PMC.csv’ saved [97057/97057]\n",
      "\n"
     ]
    }
   ],
   "source": [
    "# Download the articles CSV file\n",
    "!wget https://raw.githubusercontent.com/jgalazka/SB_publications/main/SB_publication_PMC.csv -O SB_publication_PMC.csv"
   ]
  },
  {
   "cell_type": "code",
   "execution_count": 40,
   "id": "dce2b89c",
   "metadata": {},
   "outputs": [
    {
     "data": {
      "text/html": [
       "<div>\n",
       "<style scoped>\n",
       "    .dataframe tbody tr th:only-of-type {\n",
       "        vertical-align: middle;\n",
       "    }\n",
       "\n",
       "    .dataframe tbody tr th {\n",
       "        vertical-align: top;\n",
       "    }\n",
       "\n",
       "    .dataframe thead th {\n",
       "        text-align: right;\n",
       "    }\n",
       "</style>\n",
       "<table border=\"1\" class=\"dataframe\">\n",
       "  <thead>\n",
       "    <tr style=\"text-align: right;\">\n",
       "      <th></th>\n",
       "      <th>Title</th>\n",
       "      <th>Link</th>\n",
       "    </tr>\n",
       "  </thead>\n",
       "  <tbody>\n",
       "    <tr>\n",
       "      <th>0</th>\n",
       "      <td>Mice in Bion-M 1 space mission: training and s...</td>\n",
       "      <td>https://www.ncbi.nlm.nih.gov/pmc/articles/PMC4...</td>\n",
       "    </tr>\n",
       "    <tr>\n",
       "      <th>1</th>\n",
       "      <td>Microgravity induces pelvic bone loss through ...</td>\n",
       "      <td>https://www.ncbi.nlm.nih.gov/pmc/articles/PMC3...</td>\n",
       "    </tr>\n",
       "    <tr>\n",
       "      <th>2</th>\n",
       "      <td>Stem Cell Health and Tissue Regeneration in Mi...</td>\n",
       "      <td>https://www.ncbi.nlm.nih.gov/pmc/articles/PMC1...</td>\n",
       "    </tr>\n",
       "    <tr>\n",
       "      <th>3</th>\n",
       "      <td>Microgravity Reduces the Differentiation and R...</td>\n",
       "      <td>https://www.ncbi.nlm.nih.gov/pmc/articles/PMC7...</td>\n",
       "    </tr>\n",
       "    <tr>\n",
       "      <th>4</th>\n",
       "      <td>Microgravity validation of a novel system for ...</td>\n",
       "      <td>https://www.ncbi.nlm.nih.gov/pmc/articles/PMC5...</td>\n",
       "    </tr>\n",
       "  </tbody>\n",
       "</table>\n",
       "</div>"
      ],
      "text/plain": [
       "                                               Title  \\\n",
       "0  Mice in Bion-M 1 space mission: training and s...   \n",
       "1  Microgravity induces pelvic bone loss through ...   \n",
       "2  Stem Cell Health and Tissue Regeneration in Mi...   \n",
       "3  Microgravity Reduces the Differentiation and R...   \n",
       "4  Microgravity validation of a novel system for ...   \n",
       "\n",
       "                                                Link  \n",
       "0  https://www.ncbi.nlm.nih.gov/pmc/articles/PMC4...  \n",
       "1  https://www.ncbi.nlm.nih.gov/pmc/articles/PMC3...  \n",
       "2  https://www.ncbi.nlm.nih.gov/pmc/articles/PMC1...  \n",
       "3  https://www.ncbi.nlm.nih.gov/pmc/articles/PMC7...  \n",
       "4  https://www.ncbi.nlm.nih.gov/pmc/articles/PMC5...  "
      ]
     },
     "execution_count": 40,
     "metadata": {},
     "output_type": "execute_result"
    }
   ],
   "source": [
    "df = pd.read_csv(\"SB_publication_PMC.csv\")\n",
    "df.head()"
   ]
  },
  {
   "cell_type": "code",
   "execution_count": 44,
   "id": "462cee3d",
   "metadata": {},
   "outputs": [
    {
     "name": "stdout",
     "output_type": "stream",
     "text": [
      "XML saved to PMC4136787.xml\n",
      "XML downloaded!\n",
      "\n",
      "Title: Mice in Bion-M 1 Space Mission: Training and Selection\n",
      "Authors: Alexander Andreev-Andrievskiy, Anfisa Popova, Richard Boyle, Jeffrey Alberts, Boris Shenkman, Olga Vinogradova, Oleg Dolgov, Konstantin Anokhin, Darya Tsvirkun, Pavel Soldatov, Tatyana Nemirovskaya, Eugeniy Ilyin, Vladimir Sychev\n",
      "Abstract: After a 16-year hiatus, Russia has resumed its program of biomedical research in space, with the successful 30-day flight of the Bion-M 1 biosatellite (April 19–May 19, 2013). The principal species for biomedical research in this project was the mouse. This paper presents an overview of the scientific goals, the experimental design and the mouse training/selection program. The aim of mice experiments in the Bion-M 1 project was to elucidate cellular and molecular mechanisms, underlying the adaptation of key physiological systems to long-term exposure in microgravity. The studies with mice combined in vivo measurements, both in flight and post-flight (including continuous blood pressure measurement), with extensive in vitro studies carried out shortly after return of the mice and in the end of recovery study. Male C57/BL6 mice group housed in space habitats were flown aboard the Bion-M 1 biosatellite, or remained on ground in the control experiment that replicated environmental and housing conditions in the spacecraft. Vivarium control groups were used to account for housing effects and possible seasonal differences. Mice training included the co-adaptation in housing groups and mice adaptation to paste food diet. The measures taken to co-adapt aggressive male mice in housing groups and the peculiarities of “space” paste food are described. The training program for mice designated for in vivo studies was broader and included behavioral/functional test battery and continuous behavioral measurements in the home-cage. The results of the preliminary tests were used for the selection of homogenous groups. After the flight, mice were in good condition for biomedical studies and displayed signs of pronounced disadaptation to Earth's gravity. The outcomes of the training program for the mice welfare are discussed. We conclude that our training program was effective and that male mice can be successfully employed in space biomedical research.\n"
     ]
    }
   ],
   "source": [
    "# Setting Email for NCBI Entrez\n",
    "email = \"atauchimamani@gmail.com\"\n",
    "\n",
    "# Example PMC ID\n",
    "pmc_id = \"PMC4136787\"\n",
    "\n",
    "# Step 1: Fetch XML\n",
    "xml_content = fetch_pmc_xml(pmc_id, filename=f\"{pmc_id}.xml\", email=email)\n",
    "print(\"XML downloaded!\\n\")\n",
    "\n",
    "# Step 2: Parse it\n",
    "root = load_xml(xml_content)\n",
    "\n",
    "# Step 3: Extract metadata\n",
    "title = get_title(root)\n",
    "authors = get_authors(root)\n",
    "abstract = get_abstract(root)\n",
    "\n",
    "print(\"Title:\", title)\n",
    "print(\"Authors:\", \", \".join(authors))\n",
    "print(\"Abstract:\", abstract)"
   ]
  }
 ],
 "metadata": {
  "kernelspec": {
   "display_name": ".venv",
   "language": "python",
   "name": "python3"
  },
  "language_info": {
   "codemirror_mode": {
    "name": "ipython",
    "version": 3
   },
   "file_extension": ".py",
   "mimetype": "text/x-python",
   "name": "python",
   "nbconvert_exporter": "python",
   "pygments_lexer": "ipython3",
   "version": "3.12.3"
  }
 },
 "nbformat": 4,
 "nbformat_minor": 5
}
